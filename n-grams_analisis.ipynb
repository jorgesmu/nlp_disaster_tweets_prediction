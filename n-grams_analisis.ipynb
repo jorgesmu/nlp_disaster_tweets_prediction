{
 "cells": [
  {
   "cell_type": "code",
   "execution_count": 78,
   "metadata": {},
   "outputs": [],
   "source": [
    "# import libraries\n",
    "import pandas as pd\n",
    "import numpy as np\n",
    "import matplotlib.pyplot as plt\n",
    "import seaborn as sns\n",
    "\n",
    "%matplotlib inline\n",
    "\n",
    "plt.style.use('default') # haciendo los graficos un poco mas bonitos en matplotlib\n",
    "plt.rcParams['figure.figsize'] = (12, 6)\n",
    "\n",
    "sns.set(style=\"whitegrid\") # seteando tipo de grid en seaborn\n",
    "\n",
    "pd.options.display.float_format = '{:20,.2f}'.format # suprimimos la notacion cientifica en los outputs\n",
    "\n",
    "import warnings\n",
    "warnings.filterwarnings('ignore')\n",
    "\n",
    "# from https://stackoverflow.com/questions/12444716/how-do-i-set-the-figure-title-and-axes-labels-font-size-in-matplotlib?rq=1\n",
    "import matplotlib.pylab as pylab\n",
    "params = {'legend.fontsize': 'x-large',\n",
    "          'figure.figsize': (15, 7),\n",
    "         'axes.labelsize': 'x-large',\n",
    "         'axes.titlesize':'x-large',\n",
    "         'xtick.labelsize':'large',\n",
    "         'ytick.labelsize':'x-large'}\n",
    "pylab.rcParams.update(params)"
   ]
  },
  {
   "cell_type": "code",
   "execution_count": 62,
   "metadata": {},
   "outputs": [],
   "source": [
    "train_df = pd.read_csv(\"data/train.csv\")"
   ]
  },
  {
   "cell_type": "code",
   "execution_count": 63,
   "metadata": {},
   "outputs": [
    {
     "data": {
      "text/html": [
       "<div>\n",
       "<style scoped>\n",
       "    .dataframe tbody tr th:only-of-type {\n",
       "        vertical-align: middle;\n",
       "    }\n",
       "\n",
       "    .dataframe tbody tr th {\n",
       "        vertical-align: top;\n",
       "    }\n",
       "\n",
       "    .dataframe thead th {\n",
       "        text-align: right;\n",
       "    }\n",
       "</style>\n",
       "<table border=\"1\" class=\"dataframe\">\n",
       "  <thead>\n",
       "    <tr style=\"text-align: right;\">\n",
       "      <th></th>\n",
       "      <th>id</th>\n",
       "      <th>keyword</th>\n",
       "      <th>location</th>\n",
       "      <th>text</th>\n",
       "      <th>target</th>\n",
       "    </tr>\n",
       "  </thead>\n",
       "  <tbody>\n",
       "    <tr>\n",
       "      <th>0</th>\n",
       "      <td>1</td>\n",
       "      <td>NaN</td>\n",
       "      <td>NaN</td>\n",
       "      <td>our deeds are the reason of this earthquake ma...</td>\n",
       "      <td>1</td>\n",
       "    </tr>\n",
       "    <tr>\n",
       "      <th>1</th>\n",
       "      <td>4</td>\n",
       "      <td>NaN</td>\n",
       "      <td>NaN</td>\n",
       "      <td>forest fire near la ronge sask canada</td>\n",
       "      <td>1</td>\n",
       "    </tr>\n",
       "    <tr>\n",
       "      <th>2</th>\n",
       "      <td>5</td>\n",
       "      <td>NaN</td>\n",
       "      <td>NaN</td>\n",
       "      <td>all residents asked to shelter in place are be...</td>\n",
       "      <td>1</td>\n",
       "    </tr>\n",
       "    <tr>\n",
       "      <th>3</th>\n",
       "      <td>6</td>\n",
       "      <td>NaN</td>\n",
       "      <td>NaN</td>\n",
       "      <td>13000 people receive wildfires evacuation orde...</td>\n",
       "      <td>1</td>\n",
       "    </tr>\n",
       "    <tr>\n",
       "      <th>4</th>\n",
       "      <td>7</td>\n",
       "      <td>NaN</td>\n",
       "      <td>NaN</td>\n",
       "      <td>just got sent this photo from ruby alaska as s...</td>\n",
       "      <td>1</td>\n",
       "    </tr>\n",
       "  </tbody>\n",
       "</table>\n",
       "</div>"
      ],
      "text/plain": [
       "   id keyword location                                               text  \\\n",
       "0   1     NaN      NaN  our deeds are the reason of this earthquake ma...   \n",
       "1   4     NaN      NaN              forest fire near la ronge sask canada   \n",
       "2   5     NaN      NaN  all residents asked to shelter in place are be...   \n",
       "3   6     NaN      NaN  13000 people receive wildfires evacuation orde...   \n",
       "4   7     NaN      NaN  just got sent this photo from ruby alaska as s...   \n",
       "\n",
       "   target  \n",
       "0       1  \n",
       "1       1  \n",
       "2       1  \n",
       "3       1  \n",
       "4       1  "
      ]
     },
     "execution_count": 63,
     "metadata": {},
     "output_type": "execute_result"
    }
   ],
   "source": [
    "# Preprocessing\n",
    "# removing punctuation\n",
    "train_df['text'] = train_df['text'].str.replace('[^\\w\\s]','')\n",
    "# Lower case\n",
    "train_df['text'] = train_df['text'].apply(lambda x: \" \".join(x.lower() for x in x.split()))\n",
    "# remove stop words\n",
    "# train_df['text'] = train_df['text'].apply(lambda x: \" \".join(x for x in x.split() if x not in stop))\n",
    "# remove links\n",
    "train_df['text'] = train_df['text'].str.replace('http\\S+|www.\\S+', '', case=False)\n",
    "train_df.head()"
   ]
  },
  {
   "cell_type": "code",
   "execution_count": 64,
   "metadata": {},
   "outputs": [],
   "source": [
    "NULL_PLACEHOLDER = 'NULL_PLACEHOLDER_A1234131'.lower()\n",
    "train_df['keyword'] = train_df['keyword'].fillna(NULL_PLACEHOLDER).apply(lambda x :x.lower()).replace(NULL_PLACEHOLDER,np.nan)"
   ]
  },
  {
   "cell_type": "code",
   "execution_count": 4,
   "metadata": {},
   "outputs": [],
   "source": [
    "from sklearn.feature_extraction.text import CountVectorizer\n",
    "from textblob import TextBlob\n",
    "from sklearn.feature_extraction.text import CountVectorizer\n",
    "from textblob import TextBlob\n",
    "from nltk.stem import PorterStemmer\n",
    "from textblob import Word\n",
    "from nltk.corpus import stopwords\n",
    "stop = stopwords.words('english')\n",
    "\n",
    "def standarize(df):\n",
    "    # Spelling corrections\n",
    "    #  df['n_text'] = df['text'].apply(lambda x: str(TextBlob(x).correct())) ### TOO SLOW\n",
    "    # Steamming\n",
    "    #  st = PorterStemmer()\n",
    "    #  df['n_text'] = df['text'].apply(lambda x: \" \".join([st.stem(word) for word in x.split()]))\n",
    "    # Lemmatization\n",
    "    df['n_text'] = df['text'].apply(lambda x: \" \".join([Word(word).lemmatize() for word in x.split()]))\n",
    "    return df\n",
    "\n",
    "def joinTerms(df):\n",
    "    grouped = df.groupby('n_text')['frequency'].agg('sum')\n",
    "    grouped = grouped.reset_index()\n",
    "    return grouped\n",
    "\n",
    "def raw_ngrams(serie, low=2, high=6):\n",
    "    # from: https://stackoverflow.com/questions/36572221/how-to-find-ngram-frequency-of-a-column-in-a-pandas-dataframe\n",
    "    word_vectorizer = CountVectorizer(ngram_range=(low, high), analyzer='word')\n",
    "    sparse_matrix = word_vectorizer.fit_transform(serie)\n",
    "    frequencies = sum(sparse_matrix).toarray()[0]\n",
    "    data = {\n",
    "        'text': word_vectorizer.get_feature_names(),\n",
    "        'frequency': frequencies\n",
    "    }\n",
    "    df = pd.DataFrame(data)\n",
    "    return df\n",
    "\n",
    "# filter those terms with more thatn 50% of stopwords\n",
    "def filter_n_gram_by_stopwords(df):\n",
    "    df['stop_words'] = df['text'].apply(lambda x: len([x for x in x.split() if x in stop]))\n",
    "    df['word_count'] = df['text'].apply(lambda x: len(x.split()))\n",
    "    df['sw_percentage'] = df['stop_words']/df['word_count']\n",
    "    return df[df['sw_percentage']< 0.5]\n",
    "        \n",
    "def n_grams_standarized(series, low=2, high=6):\n",
    "    ngrams = raw_ngrams(series, low, high)\n",
    "    ngrams_no_spw = filter_n_gram_by_stopwords(ngrams)\n",
    "    standarized = standarize(ngrams_no_spw)\n",
    "    return joinTerms(standarized).sort_values(by=['frequency'], ascending=False)\n"
   ]
  },
  {
   "cell_type": "code",
   "execution_count": 5,
   "metadata": {},
   "outputs": [
    {
     "data": {
      "text/html": [
       "<div>\n",
       "<style scoped>\n",
       "    .dataframe tbody tr th:only-of-type {\n",
       "        vertical-align: middle;\n",
       "    }\n",
       "\n",
       "    .dataframe tbody tr th {\n",
       "        vertical-align: top;\n",
       "    }\n",
       "\n",
       "    .dataframe thead th {\n",
       "        text-align: right;\n",
       "    }\n",
       "</style>\n",
       "<table border=\"1\" class=\"dataframe\">\n",
       "  <thead>\n",
       "    <tr style=\"text-align: right;\">\n",
       "      <th></th>\n",
       "      <th>n_text</th>\n",
       "      <th>frequency</th>\n",
       "    </tr>\n",
       "  </thead>\n",
       "  <tbody>\n",
       "    <tr>\n",
       "      <th>162444</th>\n",
       "      <td>suicide bomber</td>\n",
       "      <td>60</td>\n",
       "    </tr>\n",
       "    <tr>\n",
       "      <th>104253</th>\n",
       "      <td>look like</td>\n",
       "      <td>49</td>\n",
       "    </tr>\n",
       "    <tr>\n",
       "      <th>25707</th>\n",
       "      <td>body bag</td>\n",
       "      <td>48</td>\n",
       "    </tr>\n",
       "    <tr>\n",
       "      <th>29274</th>\n",
       "      <td>burning building</td>\n",
       "      <td>46</td>\n",
       "    </tr>\n",
       "    <tr>\n",
       "      <th>201241</th>\n",
       "      <td>youtube video</td>\n",
       "      <td>43</td>\n",
       "    </tr>\n",
       "    <tr>\n",
       "      <th>102453</th>\n",
       "      <td>liked youtube video</td>\n",
       "      <td>42</td>\n",
       "    </tr>\n",
       "    <tr>\n",
       "      <th>102452</th>\n",
       "      <td>liked youtube</td>\n",
       "      <td>42</td>\n",
       "    </tr>\n",
       "    <tr>\n",
       "      <th>120650</th>\n",
       "      <td>northern california</td>\n",
       "      <td>41</td>\n",
       "    </tr>\n",
       "    <tr>\n",
       "      <th>42767</th>\n",
       "      <td>cross body</td>\n",
       "      <td>39</td>\n",
       "    </tr>\n",
       "    <tr>\n",
       "      <th>125621</th>\n",
       "      <td>oil spill</td>\n",
       "      <td>39</td>\n",
       "    </tr>\n",
       "  </tbody>\n",
       "</table>\n",
       "</div>"
      ],
      "text/plain": [
       "                     n_text  frequency\n",
       "162444       suicide bomber         60\n",
       "104253            look like         49\n",
       "25707              body bag         48\n",
       "29274      burning building         46\n",
       "201241        youtube video         43\n",
       "102453  liked youtube video         42\n",
       "102452        liked youtube         42\n",
       "120650  northern california         41\n",
       "42767            cross body         39\n",
       "125621            oil spill         39"
      ]
     },
     "execution_count": 5,
     "metadata": {},
     "output_type": "execute_result"
    }
   ],
   "source": [
    "top_n_grams = n_grams_standarized(train_df['text'])\n",
    "top_n_grams[:10]"
   ]
  },
  {
   "cell_type": "code",
   "execution_count": 6,
   "metadata": {},
   "outputs": [
    {
     "data": {
      "text/html": [
       "<div>\n",
       "<style scoped>\n",
       "    .dataframe tbody tr th:only-of-type {\n",
       "        vertical-align: middle;\n",
       "    }\n",
       "\n",
       "    .dataframe tbody tr th {\n",
       "        vertical-align: top;\n",
       "    }\n",
       "\n",
       "    .dataframe thead th {\n",
       "        text-align: right;\n",
       "    }\n",
       "</style>\n",
       "<table border=\"1\" class=\"dataframe\">\n",
       "  <thead>\n",
       "    <tr style=\"text-align: right;\">\n",
       "      <th></th>\n",
       "      <th>frequency</th>\n",
       "    </tr>\n",
       "  </thead>\n",
       "  <tbody>\n",
       "    <tr>\n",
       "      <th>count</th>\n",
       "      <td>202,355.00</td>\n",
       "    </tr>\n",
       "    <tr>\n",
       "      <th>mean</th>\n",
       "      <td>1.24</td>\n",
       "    </tr>\n",
       "    <tr>\n",
       "      <th>std</th>\n",
       "      <td>1.36</td>\n",
       "    </tr>\n",
       "    <tr>\n",
       "      <th>min</th>\n",
       "      <td>1.00</td>\n",
       "    </tr>\n",
       "    <tr>\n",
       "      <th>25%</th>\n",
       "      <td>1.00</td>\n",
       "    </tr>\n",
       "    <tr>\n",
       "      <th>50%</th>\n",
       "      <td>1.00</td>\n",
       "    </tr>\n",
       "    <tr>\n",
       "      <th>75%</th>\n",
       "      <td>1.00</td>\n",
       "    </tr>\n",
       "    <tr>\n",
       "      <th>max</th>\n",
       "      <td>60.00</td>\n",
       "    </tr>\n",
       "  </tbody>\n",
       "</table>\n",
       "</div>"
      ],
      "text/plain": [
       "                 frequency\n",
       "count           202,355.00\n",
       "mean                  1.24\n",
       "std                   1.36\n",
       "min                   1.00\n",
       "25%                   1.00\n",
       "50%                   1.00\n",
       "75%                   1.00\n",
       "max                  60.00"
      ]
     },
     "execution_count": 6,
     "metadata": {},
     "output_type": "execute_result"
    }
   ],
   "source": [
    "top_n_grams.describe()"
   ]
  },
  {
   "cell_type": "code",
   "execution_count": 7,
   "metadata": {},
   "outputs": [
    {
     "data": {
      "text/html": [
       "<div>\n",
       "<style scoped>\n",
       "    .dataframe tbody tr th:only-of-type {\n",
       "        vertical-align: middle;\n",
       "    }\n",
       "\n",
       "    .dataframe tbody tr th {\n",
       "        vertical-align: top;\n",
       "    }\n",
       "\n",
       "    .dataframe thead th {\n",
       "        text-align: right;\n",
       "    }\n",
       "</style>\n",
       "<table border=\"1\" class=\"dataframe\">\n",
       "  <thead>\n",
       "    <tr style=\"text-align: right;\">\n",
       "      <th></th>\n",
       "      <th>n_text</th>\n",
       "      <th>frequency</th>\n",
       "    </tr>\n",
       "  </thead>\n",
       "  <tbody>\n",
       "    <tr>\n",
       "      <th>14332</th>\n",
       "      <td>body bag</td>\n",
       "      <td>46</td>\n",
       "    </tr>\n",
       "    <tr>\n",
       "      <th>23605</th>\n",
       "      <td>cross body</td>\n",
       "      <td>38</td>\n",
       "    </tr>\n",
       "    <tr>\n",
       "      <th>116173</th>\n",
       "      <td>youtube video</td>\n",
       "      <td>36</td>\n",
       "    </tr>\n",
       "    <tr>\n",
       "      <th>58426</th>\n",
       "      <td>liked youtube video</td>\n",
       "      <td>35</td>\n",
       "    </tr>\n",
       "    <tr>\n",
       "      <th>58425</th>\n",
       "      <td>liked youtube</td>\n",
       "      <td>35</td>\n",
       "    </tr>\n",
       "    <tr>\n",
       "      <th>59672</th>\n",
       "      <td>look like</td>\n",
       "      <td>32</td>\n",
       "    </tr>\n",
       "    <tr>\n",
       "      <th>34792</th>\n",
       "      <td>feel like</td>\n",
       "      <td>25</td>\n",
       "    </tr>\n",
       "    <tr>\n",
       "      <th>38865</th>\n",
       "      <td>full reû_</td>\n",
       "      <td>25</td>\n",
       "    </tr>\n",
       "    <tr>\n",
       "      <th>14394</th>\n",
       "      <td>body bagging</td>\n",
       "      <td>23</td>\n",
       "    </tr>\n",
       "    <tr>\n",
       "      <th>23618</th>\n",
       "      <td>cross body bag</td>\n",
       "      <td>22</td>\n",
       "    </tr>\n",
       "  </tbody>\n",
       "</table>\n",
       "</div>"
      ],
      "text/plain": [
       "                     n_text  frequency\n",
       "14332              body bag         46\n",
       "23605            cross body         38\n",
       "116173        youtube video         36\n",
       "58426   liked youtube video         35\n",
       "58425         liked youtube         35\n",
       "59672             look like         32\n",
       "34792             feel like         25\n",
       "38865             full reû_         25\n",
       "14394          body bagging         23\n",
       "23618        cross body bag         22"
      ]
     },
     "execution_count": 7,
     "metadata": {},
     "output_type": "execute_result"
    }
   ],
   "source": [
    "n_grams_non_disaster = n_grams_standarized(train_df[train_df['target'] == 0]['text'])\n",
    "n_grams_non_disaster[:10]"
   ]
  },
  {
   "cell_type": "code",
   "execution_count": 8,
   "metadata": {},
   "outputs": [
    {
     "data": {
      "text/html": [
       "<div>\n",
       "<style scoped>\n",
       "    .dataframe tbody tr th:only-of-type {\n",
       "        vertical-align: middle;\n",
       "    }\n",
       "\n",
       "    .dataframe tbody tr th {\n",
       "        vertical-align: top;\n",
       "    }\n",
       "\n",
       "    .dataframe thead th {\n",
       "        text-align: right;\n",
       "    }\n",
       "</style>\n",
       "<table border=\"1\" class=\"dataframe\">\n",
       "  <thead>\n",
       "    <tr style=\"text-align: right;\">\n",
       "      <th></th>\n",
       "      <th>n_text</th>\n",
       "      <th>frequency</th>\n",
       "    </tr>\n",
       "  </thead>\n",
       "  <tbody>\n",
       "    <tr>\n",
       "      <th>72985</th>\n",
       "      <td>suicide bomber</td>\n",
       "      <td>60</td>\n",
       "    </tr>\n",
       "    <tr>\n",
       "      <th>54153</th>\n",
       "      <td>northern california</td>\n",
       "      <td>41</td>\n",
       "    </tr>\n",
       "    <tr>\n",
       "      <th>56609</th>\n",
       "      <td>oil spill</td>\n",
       "      <td>38</td>\n",
       "    </tr>\n",
       "    <tr>\n",
       "      <th>14853</th>\n",
       "      <td>california wildfire</td>\n",
       "      <td>36</td>\n",
       "    </tr>\n",
       "    <tr>\n",
       "      <th>73045</th>\n",
       "      <td>suicide bombing</td>\n",
       "      <td>34</td>\n",
       "    </tr>\n",
       "    <tr>\n",
       "      <th>2243</th>\n",
       "      <td>70 year</td>\n",
       "      <td>30</td>\n",
       "    </tr>\n",
       "    <tr>\n",
       "      <th>50862</th>\n",
       "      <td>more home razed</td>\n",
       "      <td>29</td>\n",
       "    </tr>\n",
       "    <tr>\n",
       "      <th>37166</th>\n",
       "      <td>home razed by</td>\n",
       "      <td>29</td>\n",
       "    </tr>\n",
       "    <tr>\n",
       "      <th>37165</th>\n",
       "      <td>home razed</td>\n",
       "      <td>29</td>\n",
       "    </tr>\n",
       "    <tr>\n",
       "      <th>54175</th>\n",
       "      <td>northern california wildfire</td>\n",
       "      <td>29</td>\n",
       "    </tr>\n",
       "  </tbody>\n",
       "</table>\n",
       "</div>"
      ],
      "text/plain": [
       "                             n_text  frequency\n",
       "72985                suicide bomber         60\n",
       "54153           northern california         41\n",
       "56609                     oil spill         38\n",
       "14853           california wildfire         36\n",
       "73045               suicide bombing         34\n",
       "2243                        70 year         30\n",
       "50862               more home razed         29\n",
       "37166                 home razed by         29\n",
       "37165                    home razed         29\n",
       "54175  northern california wildfire         29"
      ]
     },
     "execution_count": 8,
     "metadata": {},
     "output_type": "execute_result"
    }
   ],
   "source": [
    "n_grams_disaster = n_grams_standarized(train_df[train_df['target'] == 1]['text'])\n",
    "n_grams_disaster[:10]"
   ]
  },
  {
   "cell_type": "code",
   "execution_count": 9,
   "metadata": {},
   "outputs": [
    {
     "data": {
      "text/html": [
       "<div>\n",
       "<style scoped>\n",
       "    .dataframe tbody tr th:only-of-type {\n",
       "        vertical-align: middle;\n",
       "    }\n",
       "\n",
       "    .dataframe tbody tr th {\n",
       "        vertical-align: top;\n",
       "    }\n",
       "\n",
       "    .dataframe thead th {\n",
       "        text-align: right;\n",
       "    }\n",
       "</style>\n",
       "<table border=\"1\" class=\"dataframe\">\n",
       "  <thead>\n",
       "    <tr style=\"text-align: right;\">\n",
       "      <th></th>\n",
       "      <th>n_text</th>\n",
       "      <th>frequency</th>\n",
       "    </tr>\n",
       "  </thead>\n",
       "  <tbody>\n",
       "    <tr>\n",
       "      <th>162444</th>\n",
       "      <td>suicide bomber</td>\n",
       "      <td>60</td>\n",
       "    </tr>\n",
       "    <tr>\n",
       "      <th>162504</th>\n",
       "      <td>suicide bombing</td>\n",
       "      <td>34</td>\n",
       "    </tr>\n",
       "    <tr>\n",
       "      <th>162503</th>\n",
       "      <td>suicide bomber who detonated bomb in</td>\n",
       "      <td>28</td>\n",
       "    </tr>\n",
       "    <tr>\n",
       "      <th>162501</th>\n",
       "      <td>suicide bomber who detonated</td>\n",
       "      <td>28</td>\n",
       "    </tr>\n",
       "    <tr>\n",
       "      <th>162500</th>\n",
       "      <td>suicide bomber who</td>\n",
       "      <td>28</td>\n",
       "    </tr>\n",
       "    <tr>\n",
       "      <th>162502</th>\n",
       "      <td>suicide bomber who detonated bomb</td>\n",
       "      <td>28</td>\n",
       "    </tr>\n",
       "    <tr>\n",
       "      <th>133736</th>\n",
       "      <td>pkk suicide</td>\n",
       "      <td>28</td>\n",
       "    </tr>\n",
       "    <tr>\n",
       "      <th>133737</th>\n",
       "      <td>pkk suicide bomber</td>\n",
       "      <td>28</td>\n",
       "    </tr>\n",
       "    <tr>\n",
       "      <th>133738</th>\n",
       "      <td>pkk suicide bomber who</td>\n",
       "      <td>28</td>\n",
       "    </tr>\n",
       "    <tr>\n",
       "      <th>133739</th>\n",
       "      <td>pkk suicide bomber who detonated</td>\n",
       "      <td>28</td>\n",
       "    </tr>\n",
       "  </tbody>\n",
       "</table>\n",
       "</div>"
      ],
      "text/plain": [
       "                                      n_text  frequency\n",
       "162444                        suicide bomber         60\n",
       "162504                       suicide bombing         34\n",
       "162503  suicide bomber who detonated bomb in         28\n",
       "162501          suicide bomber who detonated         28\n",
       "162500                    suicide bomber who         28\n",
       "162502     suicide bomber who detonated bomb         28\n",
       "133736                           pkk suicide         28\n",
       "133737                    pkk suicide bomber         28\n",
       "133738                pkk suicide bomber who         28\n",
       "133739      pkk suicide bomber who detonated         28"
      ]
     },
     "execution_count": 9,
     "metadata": {},
     "output_type": "execute_result"
    }
   ],
   "source": [
    "train_df[train_df['text'].str.contains('homes razed by northern california wildfire')]['text']\n",
    "top_n_grams[top_n_grams['n_text'].str.contains('suicid')][:10]"
   ]
  },
  {
   "cell_type": "markdown",
   "metadata": {},
   "source": [
    "As we can see a lot of the n-grams with n > 3 are way too specific so we will discard them.\n",
    "We will work also with 2-grams and 3-grams with a frequency > 10"
   ]
  },
  {
   "cell_type": "markdown",
   "metadata": {},
   "source": [
    "### bigrams and trigrams"
   ]
  },
  {
   "cell_type": "code",
   "execution_count": 10,
   "metadata": {},
   "outputs": [
    {
     "data": {
      "text/html": [
       "<div>\n",
       "<style scoped>\n",
       "    .dataframe tbody tr th:only-of-type {\n",
       "        vertical-align: middle;\n",
       "    }\n",
       "\n",
       "    .dataframe tbody tr th {\n",
       "        vertical-align: top;\n",
       "    }\n",
       "\n",
       "    .dataframe thead th {\n",
       "        text-align: right;\n",
       "    }\n",
       "</style>\n",
       "<table border=\"1\" class=\"dataframe\">\n",
       "  <thead>\n",
       "    <tr style=\"text-align: right;\">\n",
       "      <th></th>\n",
       "      <th>n_text</th>\n",
       "      <th>frequency</th>\n",
       "    </tr>\n",
       "  </thead>\n",
       "  <tbody>\n",
       "    <tr>\n",
       "      <th>6056</th>\n",
       "      <td>body bag</td>\n",
       "      <td>46</td>\n",
       "    </tr>\n",
       "    <tr>\n",
       "      <th>10045</th>\n",
       "      <td>cross body</td>\n",
       "      <td>38</td>\n",
       "    </tr>\n",
       "    <tr>\n",
       "      <th>48738</th>\n",
       "      <td>youtube video</td>\n",
       "      <td>36</td>\n",
       "    </tr>\n",
       "    <tr>\n",
       "      <th>24854</th>\n",
       "      <td>liked youtube</td>\n",
       "      <td>35</td>\n",
       "    </tr>\n",
       "    <tr>\n",
       "      <th>24855</th>\n",
       "      <td>liked youtube video</td>\n",
       "      <td>35</td>\n",
       "    </tr>\n",
       "    <tr>\n",
       "      <th>...</th>\n",
       "      <td>...</td>\n",
       "      <td>...</td>\n",
       "    </tr>\n",
       "    <tr>\n",
       "      <th>28569</th>\n",
       "      <td>natural disaster</td>\n",
       "      <td>11</td>\n",
       "    </tr>\n",
       "    <tr>\n",
       "      <th>45347</th>\n",
       "      <td>video to youtube</td>\n",
       "      <td>11</td>\n",
       "    </tr>\n",
       "    <tr>\n",
       "      <th>1349</th>\n",
       "      <td>added video</td>\n",
       "      <td>11</td>\n",
       "    </tr>\n",
       "    <tr>\n",
       "      <th>1350</th>\n",
       "      <td>added video to</td>\n",
       "      <td>11</td>\n",
       "    </tr>\n",
       "    <tr>\n",
       "      <th>48728</th>\n",
       "      <td>youtube playlist</td>\n",
       "      <td>11</td>\n",
       "    </tr>\n",
       "  </tbody>\n",
       "</table>\n",
       "<p>122 rows × 2 columns</p>\n",
       "</div>"
      ],
      "text/plain": [
       "                    n_text  frequency\n",
       "6056              body bag         46\n",
       "10045           cross body         38\n",
       "48738        youtube video         36\n",
       "24854        liked youtube         35\n",
       "24855  liked youtube video         35\n",
       "...                    ...        ...\n",
       "28569     natural disaster         11\n",
       "45347     video to youtube         11\n",
       "1349           added video         11\n",
       "1350        added video to         11\n",
       "48728     youtube playlist         11\n",
       "\n",
       "[122 rows x 2 columns]"
      ]
     },
     "execution_count": 10,
     "metadata": {},
     "output_type": "execute_result"
    }
   ],
   "source": [
    "n_grams_non_disaster = n_grams_standarized(train_df[train_df['target'] == 0]['text'], 2, 3)\n",
    "n_grams_non_disaster = n_grams_non_disaster[n_grams_non_disaster['frequency'] > 10]\n",
    "n_grams_non_disaster"
   ]
  },
  {
   "cell_type": "code",
   "execution_count": 11,
   "metadata": {},
   "outputs": [],
   "source": [
    "n_grams_disaster = n_grams_standarized(train_df[train_df['target'] == 1]['text'], 2, 3)\n",
    "n_grams_disaster = n_grams_disaster[n_grams_disaster['frequency'] > 10]"
   ]
  },
  {
   "cell_type": "markdown",
   "metadata": {},
   "source": [
    "Number of non disaster terms only:"
   ]
  },
  {
   "cell_type": "code",
   "execution_count": 20,
   "metadata": {},
   "outputs": [
    {
     "data": {
      "text/plain": [
       "115"
      ]
     },
     "execution_count": 20,
     "metadata": {},
     "output_type": "execute_result"
    }
   ],
   "source": [
    "terms_non_disaster = list(set(n_grams_non_disaster['n_text']) - set(n_grams_disaster['n_text']))\n",
    "len(terms_non_disaster)"
   ]
  },
  {
   "cell_type": "markdown",
   "metadata": {},
   "source": [
    "Number of disaster terms only:"
   ]
  },
  {
   "cell_type": "code",
   "execution_count": 23,
   "metadata": {},
   "outputs": [
    {
     "data": {
      "text/plain": [
       "298"
      ]
     },
     "execution_count": 23,
     "metadata": {},
     "output_type": "execute_result"
    }
   ],
   "source": [
    "terms_disaster = list(set(n_grams_disaster['n_text']) - set(n_grams_non_disaster['n_text']))\n",
    "len(terms_disaster)"
   ]
  },
  {
   "cell_type": "markdown",
   "metadata": {},
   "source": [
    "Lets take a look at repeats"
   ]
  },
  {
   "cell_type": "code",
   "execution_count": 24,
   "metadata": {},
   "outputs": [
    {
     "data": {
      "text/plain": [
       "5579    the latest more homes razed by northern califo...\n",
       "5581    the latest more homes razed by northern califo...\n",
       "5582    the latest more homes razed by northern califo...\n",
       "5583    the latest more homes razed by northern califo...\n",
       "5584    the latest more homes razed by northern califo...\n",
       "5585     the latest more homes razed by northern calif...\n",
       "5586    news the latest more homes razed by northern c...\n",
       "5587    the latest more homes razed by northern califo...\n",
       "5588    the latest more homes razed by northern califo...\n",
       "5589    the latest more homes razed by northern califo...\n",
       "5590    the latest more homes razed by northern califo...\n",
       "5591    the latest more homes razed by northern califo...\n",
       "5593    the latest more homes razed by northern califo...\n",
       "5594    the latest more homes razed by northern califo...\n",
       "5595    the latest more homes razed by northern califo...\n",
       "5597    the latest more homes razed by northern califo...\n",
       "5598    the latest more homes razed by northern califo...\n",
       "5599    the latest more homes razed by northern califo...\n",
       "5603    the latest more homes razed by northern califo...\n",
       "5604    the latest more homes razed by northern califo...\n",
       "5605    the latest more homes razed by northern califo...\n",
       "5606    the latest more homes razed by northern califo...\n",
       "5608    the latest more homes razed by northern califo...\n",
       "5610    the latest more homes razed by northern califo...\n",
       "5611    the latest more homes razed by northern califo...\n",
       "7348    the latest more homes razed by northern califo...\n",
       "7612    the latest more homes razed by northern califo...\n",
       "Name: text, dtype: object"
      ]
     },
     "execution_count": 24,
     "metadata": {},
     "output_type": "execute_result"
    }
   ],
   "source": [
    "train_df[train_df['text'].str.contains('homes razed by northern california wildfire')]['text']"
   ]
  },
  {
   "cell_type": "markdown",
   "metadata": {},
   "source": [
    "There are multiple tweets describing the same event"
   ]
  },
  {
   "cell_type": "code",
   "execution_count": 32,
   "metadata": {},
   "outputs": [
    {
     "data": {
      "text/html": [
       "<div>\n",
       "<style scoped>\n",
       "    .dataframe tbody tr th:only-of-type {\n",
       "        vertical-align: middle;\n",
       "    }\n",
       "\n",
       "    .dataframe tbody tr th {\n",
       "        vertical-align: top;\n",
       "    }\n",
       "\n",
       "    .dataframe thead th {\n",
       "        text-align: right;\n",
       "    }\n",
       "</style>\n",
       "<table border=\"1\" class=\"dataframe\">\n",
       "  <thead>\n",
       "    <tr style=\"text-align: right;\">\n",
       "      <th></th>\n",
       "      <th>target</th>\n",
       "      <th>text</th>\n",
       "      <th>count</th>\n",
       "    </tr>\n",
       "  </thead>\n",
       "  <tbody>\n",
       "    <tr>\n",
       "      <th>38</th>\n",
       "      <td>0</td>\n",
       "      <td>13 reasons why we love women in the military l...</td>\n",
       "      <td>4</td>\n",
       "    </tr>\n",
       "    <tr>\n",
       "      <th>54</th>\n",
       "      <td>0</td>\n",
       "      <td>2pcs 18w cree led work light offroad lamp car ...</td>\n",
       "      <td>3</td>\n",
       "    </tr>\n",
       "    <tr>\n",
       "      <th>61</th>\n",
       "      <td>0</td>\n",
       "      <td>320 ir icemoon aftershock  djicemoon dubstep t...</td>\n",
       "      <td>7</td>\n",
       "    </tr>\n",
       "    <tr>\n",
       "      <th>241</th>\n",
       "      <td>0</td>\n",
       "      <td>ambulance sprinter automatic frontline vehicle...</td>\n",
       "      <td>4</td>\n",
       "    </tr>\n",
       "    <tr>\n",
       "      <th>441</th>\n",
       "      <td>0</td>\n",
       "      <td>beware of your temper and a loose tongue these...</td>\n",
       "      <td>3</td>\n",
       "    </tr>\n",
       "    <tr>\n",
       "      <th>501</th>\n",
       "      <td>0</td>\n",
       "      <td>bluedio turbine hurricane h bluetooth 41 wirel...</td>\n",
       "      <td>3</td>\n",
       "    </tr>\n",
       "    <tr>\n",
       "      <th>702</th>\n",
       "      <td>0</td>\n",
       "      <td>coastal german shepherd rescue oc shared a lin...</td>\n",
       "      <td>3</td>\n",
       "    </tr>\n",
       "    <tr>\n",
       "      <th>741</th>\n",
       "      <td>0</td>\n",
       "      <td>crackdown 3 destruction restricted to multipla...</td>\n",
       "      <td>3</td>\n",
       "    </tr>\n",
       "    <tr>\n",
       "      <th>901</th>\n",
       "      <td>0</td>\n",
       "      <td>dk eyewitness travel guide denmark travel guid...</td>\n",
       "      <td>3</td>\n",
       "    </tr>\n",
       "    <tr>\n",
       "      <th>909</th>\n",
       "      <td>0</td>\n",
       "      <td>do you feel engulfed with low selfimage take t...</td>\n",
       "      <td>3</td>\n",
       "    </tr>\n",
       "  </tbody>\n",
       "</table>\n",
       "</div>"
      ],
      "text/plain": [
       "     target                                               text  count\n",
       "38        0  13 reasons why we love women in the military l...      4\n",
       "54        0  2pcs 18w cree led work light offroad lamp car ...      3\n",
       "61        0  320 ir icemoon aftershock  djicemoon dubstep t...      7\n",
       "241       0  ambulance sprinter automatic frontline vehicle...      4\n",
       "441       0  beware of your temper and a loose tongue these...      3\n",
       "501       0  bluedio turbine hurricane h bluetooth 41 wirel...      3\n",
       "702       0  coastal german shepherd rescue oc shared a lin...      3\n",
       "741       0  crackdown 3 destruction restricted to multipla...      3\n",
       "901       0  dk eyewitness travel guide denmark travel guid...      3\n",
       "909       0  do you feel engulfed with low selfimage take t...      3"
      ]
     },
     "execution_count": 32,
     "metadata": {},
     "output_type": "execute_result"
    }
   ],
   "source": [
    "repeats = train_df.groupby(['target','text']).agg({ 'id':'count'})\n",
    "repeats = repeats.reset_index()\n",
    "repeats.rename(columns={'id':'count'}, inplace=True)\n",
    "repeats = repeats[repeats['count'] > 2]\n",
    "repeats[:10]"
   ]
  },
  {
   "cell_type": "code",
   "execution_count": 33,
   "metadata": {},
   "outputs": [
    {
     "data": {
      "image/png": "[encoded data removed]",
      "text/plain": [
       "<Figure size 1500x700 with 1 Axes>"
      ]
     },
     "metadata": {},
     "output_type": "display_data"
    }
   ],
   "source": [
    "plot = sns.distplot(repeats[repeats['target']==0][\"count\"], color=\"green\", label='Fake disasters', hist=True)\n",
    "plot = sns.distplot(repeats[repeats['target']==1][\"count\"], color=\"red\", label='Real disasters', hist=True)\n",
    "\n",
    "plot.set_title(\"Tweet repeats by disaster clasification\", fontsize=18)\n",
    "plot.set_ylabel(\"Density\", fontsize=18)\n",
    "plot.figure.savefig('tweet repeats.png', dpi=100)"
   ]
  },
  {
   "cell_type": "code",
   "execution_count": 36,
   "metadata": {},
   "outputs": [
    {
     "data": {
      "text/plain": [
       "528"
      ]
     },
     "execution_count": 36,
     "metadata": {},
     "output_type": "execute_result"
    }
   ],
   "source": [
    "repeats['count'].sum()"
   ]
  },
  {
   "cell_type": "code",
   "execution_count": 35,
   "metadata": {},
   "outputs": [
    {
     "data": {
      "text/plain": [
       "(180, 348)"
      ]
     },
     "execution_count": 35,
     "metadata": {},
     "output_type": "execute_result"
    }
   ],
   "source": [
    "(repeats[repeats['target'] == 0]['count'].sum(), repeats[repeats['target'] == 1]['count'].sum())"
   ]
  },
  {
   "cell_type": "code",
   "execution_count": 40,
   "metadata": {},
   "outputs": [
    {
     "data": {
      "text/plain": [
       "(4.0, 1.5954480704349312)"
      ]
     },
     "execution_count": 40,
     "metadata": {},
     "output_type": "execute_result"
    }
   ],
   "source": [
    "(repeats[repeats['target'] == 0]['count'].mean(), repeats[repeats['target'] == 0]['count'].std())"
   ]
  },
  {
   "cell_type": "code",
   "execution_count": 41,
   "metadata": {},
   "outputs": [
    {
     "data": {
      "text/plain": [
       "(5.8, 4.542828208901721)"
      ]
     },
     "execution_count": 41,
     "metadata": {},
     "output_type": "execute_result"
    }
   ],
   "source": [
    "(repeats[repeats['target'] == 1]['count'].mean(), repeats[repeats['target'] == 1]['count'].std())"
   ]
  },
  {
   "cell_type": "markdown",
   "metadata": {},
   "source": [
    "Lets see if those repeats also share keywords"
   ]
  },
  {
   "cell_type": "code",
   "execution_count": 70,
   "metadata": {},
   "outputs": [
    {
     "data": {
      "text/plain": [
       "38       4\n",
       "54       3\n",
       "61       7\n",
       "241      4\n",
       "442      3\n",
       "        ..\n",
       "6818    24\n",
       "6855     3\n",
       "6927     3\n",
       "6929    20\n",
       "6976     3\n",
       "Name: count, Length: 104, dtype: int64"
      ]
     },
     "execution_count": 70,
     "metadata": {},
     "output_type": "execute_result"
    }
   ],
   "source": [
    "repeats_text_kw = train_df.groupby(['target','text', 'keyword']).agg({ 'id':'count'})\n",
    "repeats_text_kw = repeats_text_kw.reset_index()\n",
    "repeats_text_kw.rename(columns={'id':'count'}, inplace=True)\n",
    "repeats_text_kw = repeats_text_kw[repeats_text_kw['count'] > 2]\n",
    "repeats_text_kw['count']"
   ]
  },
  {
   "cell_type": "code",
   "execution_count": 77,
   "metadata": {},
   "outputs": [
    {
     "data": {
      "image/png": "[encoded data removed]",
      "text/plain": [
       "<Figure size 1500x700 with 1 Axes>"
      ]
     },
     "metadata": {},
     "output_type": "display_data"
    }
   ],
   "source": [
    "plot = repeats_text_kw['count'].hist(bins=15)\n",
    "plot.set_title('Repeats keywords on text repeats')\n",
    "plot.set_xlabel('keyword repeats')\n",
    "plot.set_ylabel('count')\n",
    "plot.figure.savefig(\"Keyword repeats on text repeats.png\")"
   ]
  },
  {
   "cell_type": "code",
   "execution_count": null,
   "metadata": {},
   "outputs": [],
   "source": []
  }
 ],
 "metadata": {
  "kernelspec": {
   "display_name": "Python 3",
   "language": "python",
   "name": "python3"
  },
  "language_info": {
   "codemirror_mode": {
    "name": "ipython",
    "version": 3
   },
   "file_extension": ".py",
   "mimetype": "text/x-python",
   "name": "python",
   "nbconvert_exporter": "python",
   "pygments_lexer": "ipython3",
   "version": "3.7.2"
  }
 },
 "nbformat": 4,
 "nbformat_minor": 4
}
